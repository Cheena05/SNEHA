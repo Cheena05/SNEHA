{
 "cells": [
  {
   "cell_type": "raw",
   "id": "0e0dd164-495a-4690-95ba-47e91aaee41c",
   "metadata": {},
   "source": [
    "PYTHON BASIC QUESTIONS"
   ]
  },
  {
   "cell_type": "raw",
   "id": "55941a23-d44c-4c30-9ba4-31243a96ab46",
   "metadata": {},
   "source": [
    "1. What is Python and why is it popular?\n",
    "\n",
    "-  Python is a programming languange.It is known for it's ease of learning and versatility used in web development,machine learning and so on. It includes data types,variables,operators,conditional staetments. It is popular for it's easy learning and it is widely used in the industries. It also contains lots of libraries. The automation and image processing in python is also popular. It helps in the proper data analysis, front-end and back-end."
   ]
  },
  {
   "cell_type": "raw",
   "id": "61aacac9-8964-443d-a468-7d09dea8dcab",
   "metadata": {},
   "source": [
    "2. What is an interpreter in Python?\n",
    "\n",
    "-  It is a program that reads and executes Python code. It translates it into a form the computer can understand. To execute a code we need a platform or environment and that environment is IDE(Integrated Development Environment). Computer will execute code directly using IDE's."
   ]
  },
  {
   "cell_type": "raw",
   "id": "26087a39-74ce-47a4-878e-5a7fe3269b85",
   "metadata": {},
   "source": [
    "3. What are pre-defined keywords in Python?\n",
    "\n",
    "-  The keywords which are reserved words that have special meaning in the language are pre-defined keywords. some examples are True,False,if,else, etc."
   ]
  },
  {
   "cell_type": "raw",
   "id": "9b3391ad-be92-4479-ace8-fe5a22a2c517",
   "metadata": {},
   "source": [
    "4. Can keywords be used as variables names?\n",
    "\n",
    "-  No,keywords can not be used as variable names. And if we do so it will show a syntax error."
   ]
  },
  {
   "cell_type": "raw",
   "id": "93c9031a-e30a-4498-9f19-cd94f1f43981",
   "metadata": {},
   "source": [
    "5. What is mutability in Python?\n",
    "\n",
    "-  Objects/Container whose value can be changed after they are created are called as mutable objects. Mutability means change, if you can edit something after it created."
   ]
  },
  {
   "cell_type": "raw",
   "id": "f876482e-45fa-444a-a285-9204027d6992",
   "metadata": {},
   "source": [
    "6.  What are lists mutable, but tuples are immutable?\n",
    "\n",
    "-  List is a type of mutable object in which the value can be changed after the creation. It is defined with square bracket[]. List is that type of data container whivh can store all the type of data. example-(int, str, bool, etc.)\n",
    "\n",
    "-  Tuples are defined with round bracket(). And these are immutable because it can not be modified or replace that's why we use () brackets to make the elements permanent."
   ]
  },
  {
   "cell_type": "raw",
   "id": "81789118-3b27-4991-ae08-1b73e736cb5c",
   "metadata": {},
   "source": [
    "7. What is the difference between \"==\" and \"is\" operators in python.\n",
    "\n",
    "-  This \"==\" equal is a comparison operators where we compare two values and return a boolean value.\n",
    "\n",
    "-  The \"is\" is an identity operator, where we compares location of two objects/variables."
   ]
  },
  {
   "cell_type": "raw",
   "id": "1de82572-f977-4c59-a58d-81fcdceb6dcd",
   "metadata": {},
   "source": [
    "8. What are logical operators in Python?\n",
    "\n",
    "-  Python operators has special keywords/symbols that are used to perform operations on value. Logical operators are a part of it.\n",
    "-  Logical operators are of 3 types\n",
    "   1) AND   2) OR   3) NOT\n",
    "-  It contains True and False\n",
    "   1) AND            2) OR            3)NOT Operator\n",
    "      T AND T - T      T OR T - T       \n",
    "      T AND F - F      T OR F - T\n",
    "      F AND T - F      F OR T - T\n",
    "      F AND F - F      F OR F - F"
   ]
  },
  {
   "cell_type": "raw",
   "id": "ced378b7-c769-4c5c-8efc-e6885cee4447",
   "metadata": {},
   "source": [
    "9. What is type casting in Python?\n",
    "\n",
    "-  The process of changing the data type of a value or object is type casting/type conversion. While executing using the operators, there can be a mismatch between the data types that's where type casting comes in python."
   ]
  },
  {
   "cell_type": "raw",
   "id": "565b2f2a-e08e-4f9c-9b20-634f9318d23f",
   "metadata": {},
   "source": [
    "10. What is the difference between implicit and explicit type casting?\n",
    "\n",
    "-   Type casting are of two types:\n",
    "\n",
    "    1) Implicit typecasting - In which python understands the data types.\n",
    "\n",
    "    2) Explicit typecasting - This convert data types using inbuilt functions, example- str, int, bool, float."
   ]
  },
  {
   "cell_type": "raw",
   "id": "0f33ce12-0c5e-4300-80c1-51a69318e925",
   "metadata": {},
   "source": [
    "11. What is the purpose of conditional statements in Python?\n",
    "\n",
    "-  Condiotional statements in Python helps you to code decisions based on some pre-conditions. They allow your code to execute certain blocks of code only when specific condition are met."
   ]
  },
  {
   "cell_type": "raw",
   "id": "f12c0016-d48b-41ff-940f-4b781d275066",
   "metadata": {},
   "source": [
    "12. How does the elif statement work?\n",
    "\n",
    "-   The elif(\"else if\") statement is used to check multiple conditions after the initial \"if\" statement. It allows your program to try several conditions in sequence, and executes the first block where the condition is true. Example :"
   ]
  },
  {
   "cell_type": "code",
   "execution_count": 4,
   "id": "d4adb0ef-72bf-4a0c-9d0b-be7f31e4f9a1",
   "metadata": {},
   "outputs": [
    {
     "name": "stdout",
     "output_type": "stream",
     "text": [
      "grade B\n"
     ]
    }
   ],
   "source": [
    "score=80\n",
    "if score>=90:\n",
    "    print(\"grade A\")\n",
    "elif(80<=score<90):\n",
    "    print(\"grade B\")\n",
    "elif(70<=score<80):\n",
    "    print(\"grade C\")\n",
    "else:\n",
    "    print(\"grade D\")"
   ]
  },
  {
   "cell_type": "raw",
   "id": "89819a3a-cf81-4fb9-ba24-f5d0a1f5dffd",
   "metadata": {},
   "source": [
    "13. What is the difference between for and while loops?\n",
    "\n",
    "-   There are 2 types of loops\n",
    "\n",
    "    1) For loop : It is used when you know in advance how many times you want to loop.\n",
    "\n",
    "    2) While loop : It repeatedly executes a block of code until a condition a met."
   ]
  },
  {
   "cell_type": "raw",
   "id": "1def9dcc-8879-4fba-9834-f97056d5dd01",
   "metadata": {},
   "source": [
    "14. Describe a scenario where a while loop is more suitable than a for loop?\n",
    "\n",
    "-   Suppose you forget the password of your laptop, then you'll try opening it.\n",
    "-   A for loop wouldn't work unless you fixed a maximum number of attempts.\n",
    "-   And the while loop chceks a condition and repeats untill it's no longer true.\n"
   ]
  },
  {
   "cell_type": "raw",
   "id": "8276dfc2-cd3f-407f-b44f-9f2bc757300a",
   "metadata": {},
   "source": [
    "PRACTICAL QUESTIONS"
   ]
  },
  {
   "cell_type": "code",
   "execution_count": 3,
   "id": "8aa48f56-d680-415a-b4dc-2f1cc0e7e6ac",
   "metadata": {},
   "outputs": [
    {
     "name": "stdout",
     "output_type": "stream",
     "text": [
      "Hello,World!\n"
     ]
    }
   ],
   "source": [
    "1.#Write a python program to print\"Hello,World!\"\n",
    "\n",
    "print(\"Hello,World!\")"
   ]
  },
  {
   "cell_type": "code",
   "execution_count": 14,
   "id": "c297b20b-38f5-49ca-9234-d0f10a017b20",
   "metadata": {},
   "outputs": [
    {
     "data": {
      "text/plain": [
       "'Sneha'"
      ]
     },
     "execution_count": 14,
     "metadata": {},
     "output_type": "execute_result"
    }
   ],
   "source": [
    "2. #Write a Python program that displays your name and age.\n",
    "\n",
    "name=\"Sneha\"\n",
    "name"
   ]
  },
  {
   "cell_type": "code",
   "execution_count": 15,
   "id": "dd71e352-cef1-4af4-b8f2-a345fe375c80",
   "metadata": {},
   "outputs": [
    {
     "data": {
      "text/plain": [
       "22"
      ]
     },
     "execution_count": 15,
     "metadata": {},
     "output_type": "execute_result"
    }
   ],
   "source": [
    "age=22\n",
    "age"
   ]
  },
  {
   "cell_type": "code",
   "execution_count": 16,
   "id": "782deade-c79a-422d-bac5-1b3df791b69a",
   "metadata": {},
   "outputs": [
    {
     "name": "stdout",
     "output_type": "stream",
     "text": [
      "\n",
      "Here is a list of the Python keywords.  Enter any keyword to get more help.\n",
      "\n",
      "False               class               from                or\n",
      "None                continue            global              pass\n",
      "True                def                 if                  raise\n",
      "and                 del                 import              return\n",
      "as                  elif                in                  try\n",
      "assert              else                is                  while\n",
      "async               except              lambda              with\n",
      "await               finally             nonlocal            yield\n",
      "break               for                 not                 \n",
      "\n"
     ]
    }
   ],
   "source": [
    "3. #Write code to print pre-defined keywords in Python using the keyword library.\n",
    "\n",
    "help('keywords')    "
   ]
  },
  {
   "cell_type": "code",
   "execution_count": 1,
   "id": "6788d8c3-d5f7-4162-8d47-027c1e4ff186",
   "metadata": {},
   "outputs": [
    {
     "name": "stdout",
     "output_type": "stream",
     "text": [
      "false (word) is not a keyword\n"
     ]
    }
   ],
   "source": [
    "4. #Write a program that check if a given word is a Python keyword.\n",
    "\n",
    "import keyword\n",
    "word = \"by\"\n",
    "#check if it is a keyword\n",
    "if(keyword).iskeyword(word):\n",
    "    print(\"true\",\"(word) is a keyword\")\n",
    "else:\n",
    "    print(\"false\",\"(word) is not a keyword\")"
   ]
  },
  {
   "cell_type": "code",
   "execution_count": 59,
   "id": "c5a0a4e4-822a-4ae5-bf10-7c2643ec8626",
   "metadata": {},
   "outputs": [
    {
     "data": {
      "text/plain": [
       "(1, 2, 3.5, (4+5j), 'sun')"
      ]
     },
     "execution_count": 59,
     "metadata": {},
     "output_type": "execute_result"
    }
   ],
   "source": [
    "5. #Create a list and tuple in Python and demostrate how attempting to change an element works differently for each.\n",
    "\n",
    "tuple1=(1,2,3.5,4+5j,'sun')\n",
    "tuple1"
   ]
  },
  {
   "cell_type": "code",
   "execution_count": 41,
   "id": "d565047c-b752-4939-80e1-a6b1164ccd1b",
   "metadata": {},
   "outputs": [
    {
     "data": {
      "text/plain": [
       "2"
      ]
     },
     "execution_count": 41,
     "metadata": {},
     "output_type": "execute_result"
    }
   ],
   "source": [
    "tuple1[1]"
   ]
  },
  {
   "cell_type": "code",
   "execution_count": 47,
   "id": "5d911795-cd99-414d-8ef6-813ba35d19ed",
   "metadata": {},
   "outputs": [
    {
     "data": {
      "text/plain": [
       "1"
      ]
     },
     "execution_count": 47,
     "metadata": {},
     "output_type": "execute_result"
    }
   ],
   "source": [
    "tuple1.count(\"sun\")"
   ]
  },
  {
   "cell_type": "code",
   "execution_count": 48,
   "id": "39032dab-8019-4bb1-9160-b6b37cd4ce73",
   "metadata": {},
   "outputs": [
    {
     "data": {
      "text/plain": [
       "4"
      ]
     },
     "execution_count": 48,
     "metadata": {},
     "output_type": "execute_result"
    }
   ],
   "source": [
    "tuple1.index(\"sun\")"
   ]
  },
  {
   "cell_type": "code",
   "execution_count": 80,
   "id": "08dbd844-cb7e-4af6-9268-be5295f69ffa",
   "metadata": {},
   "outputs": [
    {
     "data": {
      "text/plain": [
       "(1, 2, 3.5, (4+5j), 'sun')"
      ]
     },
     "execution_count": 80,
     "metadata": {},
     "output_type": "execute_result"
    }
   ],
   "source": [
    "list = (tuple1)\n",
    "list"
   ]
  },
  {
   "cell_type": "code",
   "execution_count": 84,
   "id": "736479a8-47f4-45c7-b017-0ec20a65fd08",
   "metadata": {},
   "outputs": [
    {
     "data": {
      "text/plain": [
       "[5, True, 5.5]"
      ]
     },
     "execution_count": 84,
     "metadata": {},
     "output_type": "execute_result"
    }
   ],
   "source": [
    "#list\n",
    "\n",
    "list1=[5,True,5.5]\n",
    "list1"
   ]
  },
  {
   "cell_type": "code",
   "execution_count": 86,
   "id": "2098ef95-85c6-4d2c-9423-31e2991b73cb",
   "metadata": {},
   "outputs": [
    {
     "data": {
      "text/plain": [
       "True"
      ]
     },
     "execution_count": 86,
     "metadata": {},
     "output_type": "execute_result"
    }
   ],
   "source": [
    "list1[1]"
   ]
  },
  {
   "cell_type": "code",
   "execution_count": 87,
   "id": "65aa77d8-5ff8-4759-894d-5db7a40ea189",
   "metadata": {},
   "outputs": [
    {
     "data": {
      "text/plain": [
       "[5, False, 5.5]"
      ]
     },
     "execution_count": 87,
     "metadata": {},
     "output_type": "execute_result"
    }
   ],
   "source": [
    "list1[1]=False\n",
    "list1"
   ]
  },
  {
   "cell_type": "code",
   "execution_count": 26,
   "id": "2a2fa654-8d42-4f25-ba0f-8317b20574bc",
   "metadata": {},
   "outputs": [
    {
     "data": {
      "text/plain": [
       "[1, 2, 3.5, (4+5j), True, 'Mom']"
      ]
     },
     "execution_count": 26,
     "metadata": {},
     "output_type": "execute_result"
    }
   ],
   "source": [
    "6. #Write a function to demonstrate the behaviour of mutable and immutable arguments.\n",
    "   #mutable\n",
    "\n",
    "list_cont=[1,2,3.5,4+5j,True,'Mom']\n",
    "list_cont"
   ]
  },
  {
   "cell_type": "code",
   "execution_count": 27,
   "id": "2ee0818d-7484-4905-aa10-a93dbc26a6a2",
   "metadata": {},
   "outputs": [
    {
     "data": {
      "text/plain": [
       "'Mom'"
      ]
     },
     "execution_count": 27,
     "metadata": {},
     "output_type": "execute_result"
    }
   ],
   "source": [
    "list_cont[5]"
   ]
  },
  {
   "cell_type": "code",
   "execution_count": 28,
   "id": "c24c5d4e-52c6-4aeb-8b56-4057f6ef78c3",
   "metadata": {},
   "outputs": [
    {
     "data": {
      "text/plain": [
       "[1, 2, 3.5, (4+5j), True, 'Dad']"
      ]
     },
     "execution_count": 28,
     "metadata": {},
     "output_type": "execute_result"
    }
   ],
   "source": [
    "list_cont[5]=\"Dad\"\n",
    "list_cont"
   ]
  },
  {
   "cell_type": "code",
   "execution_count": 29,
   "id": "5b651d72-7845-4e59-9900-95c7c7913f15",
   "metadata": {},
   "outputs": [
    {
     "data": {
      "text/plain": [
       "'virat kohli'"
      ]
     },
     "execution_count": 29,
     "metadata": {},
     "output_type": "execute_result"
    }
   ],
   "source": [
    "#immutable\n",
    "\n",
    "a=\"virat kohli\"\n",
    "a"
   ]
  },
  {
   "cell_type": "code",
   "execution_count": 35,
   "id": "f2e24d3c-c47e-40b0-817d-bbd44cf7a5a8",
   "metadata": {},
   "outputs": [
    {
     "data": {
      "text/plain": [
       "'t'"
      ]
     },
     "execution_count": 35,
     "metadata": {},
     "output_type": "execute_result"
    }
   ],
   "source": [
    "a[4]"
   ]
  },
  {
   "cell_type": "code",
   "execution_count": 36,
   "id": "4128428b-4d59-423e-8704-16eab7051455",
   "metadata": {},
   "outputs": [
    {
     "ename": "TypeError",
     "evalue": "'str' object does not support item assignment",
     "output_type": "error",
     "traceback": [
      "\u001b[31m---------------------------------------------------------------------------\u001b[39m",
      "\u001b[31mTypeError\u001b[39m                                 Traceback (most recent call last)",
      "\u001b[36mCell\u001b[39m\u001b[36m \u001b[39m\u001b[32mIn[36]\u001b[39m\u001b[32m, line 1\u001b[39m\n\u001b[32m----> \u001b[39m\u001b[32m1\u001b[39m \u001b[43ma\u001b[49m\u001b[43m[\u001b[49m\u001b[32;43m4\u001b[39;49m\u001b[43m]\u001b[49m=\u001b[33m\"\u001b[39m\u001b[33mj\u001b[39m\u001b[33m\"\u001b[39m\n",
      "\u001b[31mTypeError\u001b[39m: 'str' object does not support item assignment"
     ]
    }
   ],
   "source": [
    "a[4]=\"j\""
   ]
  },
  {
   "cell_type": "raw",
   "id": "e093020f-b479-4210-950d-4e9747a126fa",
   "metadata": {},
   "source": [
    "The immutable can not be modified."
   ]
  },
  {
   "cell_type": "code",
   "execution_count": 37,
   "id": "9d9cfa9d-e406-410b-afba-13b94d12f8a6",
   "metadata": {},
   "outputs": [
    {
     "data": {
      "text/plain": [
       "7"
      ]
     },
     "execution_count": 37,
     "metadata": {},
     "output_type": "execute_result"
    }
   ],
   "source": [
    "7. #Write a program that performs basic arithematic operations on two user-input numbers.\n",
    "\n",
    "a=5\n",
    "b=2\n",
    "a+b"
   ]
  },
  {
   "cell_type": "code",
   "execution_count": 40,
   "id": "c0b1edf0-d26e-44be-929d-48f819f60e77",
   "metadata": {},
   "outputs": [
    {
     "data": {
      "text/plain": [
       "3"
      ]
     },
     "execution_count": 40,
     "metadata": {},
     "output_type": "execute_result"
    }
   ],
   "source": [
    "sub=a-b\n",
    "sub"
   ]
  },
  {
   "cell_type": "code",
   "execution_count": 41,
   "id": "aaceee81-9124-477b-8697-8eafd7aa74f5",
   "metadata": {},
   "outputs": [
    {
     "data": {
      "text/plain": [
       "True"
      ]
     },
     "execution_count": 41,
     "metadata": {},
     "output_type": "execute_result"
    }
   ],
   "source": [
    "8. #Write a program to demostrate the use of logical operators.\n",
    "\n",
    "True and True    "
   ]
  },
  {
   "cell_type": "code",
   "execution_count": 42,
   "id": "9c184175-610a-41bf-82af-ed169c27ace8",
   "metadata": {},
   "outputs": [
    {
     "data": {
      "text/plain": [
       "False"
      ]
     },
     "execution_count": 42,
     "metadata": {},
     "output_type": "execute_result"
    }
   ],
   "source": [
    "False and True"
   ]
  },
  {
   "cell_type": "code",
   "execution_count": 43,
   "id": "b5a75f30-ace6-46b4-ba80-de52030f338e",
   "metadata": {},
   "outputs": [
    {
     "data": {
      "text/plain": [
       "True"
      ]
     },
     "execution_count": 43,
     "metadata": {},
     "output_type": "execute_result"
    }
   ],
   "source": [
    "True or False"
   ]
  },
  {
   "cell_type": "code",
   "execution_count": 44,
   "id": "4f70abb6-f300-4a15-8861-fb50fff24eec",
   "metadata": {},
   "outputs": [
    {
     "data": {
      "text/plain": [
       "True"
      ]
     },
     "execution_count": 44,
     "metadata": {},
     "output_type": "execute_result"
    }
   ],
   "source": [
    "True or True"
   ]
  },
  {
   "cell_type": "code",
   "execution_count": 45,
   "id": "8d3d51e0-820d-473e-a278-b37628806c0e",
   "metadata": {},
   "outputs": [
    {
     "data": {
      "text/plain": [
       "False"
      ]
     },
     "execution_count": 45,
     "metadata": {},
     "output_type": "execute_result"
    }
   ],
   "source": [
    "not True"
   ]
  },
  {
   "cell_type": "code",
   "execution_count": 46,
   "id": "dbc35a08-59e6-4541-ba07-9b80c0e2b40f",
   "metadata": {},
   "outputs": [
    {
     "data": {
      "text/plain": [
       "True"
      ]
     },
     "execution_count": 46,
     "metadata": {},
     "output_type": "execute_result"
    }
   ],
   "source": [
    "not False"
   ]
  },
  {
   "cell_type": "code",
   "execution_count": 5,
   "id": "e95f132a-1008-4e0d-98c1-b650345220cc",
   "metadata": {},
   "outputs": [
    {
     "data": {
      "text/plain": [
       "str"
      ]
     },
     "execution_count": 5,
     "metadata": {},
     "output_type": "execute_result"
    }
   ],
   "source": [
    "9. #Write a Python program to convert user input from string to integer, float, and boolean types.\n",
    "\n",
    "a=\"5\"\n",
    "type(a)"
   ]
  },
  {
   "cell_type": "code",
   "execution_count": 6,
   "id": "b7ba5182-3d18-41ff-a28b-7a6ed5650d92",
   "metadata": {},
   "outputs": [
    {
     "name": "stdout",
     "output_type": "stream",
     "text": [
      "<class 'str'>\n",
      "<class 'int'>\n"
     ]
    }
   ],
   "source": [
    "a=\"5\"\n",
    "print(type(a))\n",
    "print(type(int(a)))"
   ]
  },
  {
   "cell_type": "code",
   "execution_count": 8,
   "id": "73170ca3-1155-4026-85c7-b4e90dd9089b",
   "metadata": {},
   "outputs": [
    {
     "name": "stdout",
     "output_type": "stream",
     "text": [
      "<class 'str'>\n",
      "<class 'float'>\n"
     ]
    }
   ],
   "source": [
    "a=\"5.2\"\n",
    "print(type(a))\n",
    "print(type(float(a)))"
   ]
  },
  {
   "cell_type": "code",
   "execution_count": 37,
   "id": "a34ddaa7-11a7-4d04-a36f-2855445e62c2",
   "metadata": {},
   "outputs": [
    {
     "name": "stdout",
     "output_type": "stream",
     "text": [
      "<class 'str'>\n",
      "<class 'bool'>\n"
     ]
    }
   ],
   "source": [
    "a=\"True\"\n",
    "print(type(a))\n",
    "print(type(bool(a)))"
   ]
  },
  {
   "cell_type": "code",
   "execution_count": 90,
   "id": "f0174302-b2a0-43c0-a9ff-698ee1e23338",
   "metadata": {},
   "outputs": [
    {
     "data": {
      "text/plain": [
       "[1, 3.5, True, 'moon']"
      ]
     },
     "execution_count": 90,
     "metadata": {},
     "output_type": "execute_result"
    }
   ],
   "source": [
    "10. #Write code to demonstrate type casting with list elements.\n",
    "\n",
    "list=[1,3.5,True,\"moon\"]\n",
    "list"
   ]
  },
  {
   "cell_type": "code",
   "execution_count": 93,
   "id": "63fd6598-cf86-4749-82e2-6a40b04f3cf9",
   "metadata": {},
   "outputs": [
    {
     "data": {
      "text/plain": [
       "3.5"
      ]
     },
     "execution_count": 93,
     "metadata": {},
     "output_type": "execute_result"
    }
   ],
   "source": [
    "list[1]"
   ]
  },
  {
   "cell_type": "code",
   "execution_count": 10,
   "id": "ff5d46c8-f1b9-422f-a075-333bfb026afe",
   "metadata": {},
   "outputs": [
    {
     "data": {
      "text/plain": [
       "'Shinchan'"
      ]
     },
     "execution_count": 10,
     "metadata": {},
     "output_type": "execute_result"
    }
   ],
   "source": [
    "11. #Write a program to checks if a number is positive, negative, or zero.\n",
    "\n",
    "a=\"Shinchan\"\n",
    "a"
   ]
  },
  {
   "cell_type": "code",
   "execution_count": 11,
   "id": "5a29615c-6216-4fb5-a910-f66d435ea822",
   "metadata": {},
   "outputs": [
    {
     "data": {
      "text/plain": [
       "'S'"
      ]
     },
     "execution_count": 11,
     "metadata": {},
     "output_type": "execute_result"
    }
   ],
   "source": [
    "a[0]"
   ]
  },
  {
   "cell_type": "code",
   "execution_count": 12,
   "id": "e4372e97-57a3-44bd-b3bf-82e18dacfa09",
   "metadata": {},
   "outputs": [
    {
     "data": {
      "text/plain": [
       "'n'"
      ]
     },
     "execution_count": 12,
     "metadata": {},
     "output_type": "execute_result"
    }
   ],
   "source": [
    "a[-1]"
   ]
  },
  {
   "cell_type": "code",
   "execution_count": 13,
   "id": "33a049a4-8f8f-4840-8618-4d657ee90692",
   "metadata": {},
   "outputs": [
    {
     "data": {
      "text/plain": [
       "'n'"
      ]
     },
     "execution_count": 13,
     "metadata": {},
     "output_type": "execute_result"
    }
   ],
   "source": [
    "a[3]"
   ]
  },
  {
   "cell_type": "code",
   "execution_count": 21,
   "id": "50e05d23-e199-4b5f-b5ba-3447d5a9c5ec",
   "metadata": {},
   "outputs": [
    {
     "name": "stdout",
     "output_type": "stream",
     "text": [
      "1\n",
      "2\n",
      "3\n",
      "4\n",
      "5\n",
      "6\n",
      "7\n",
      "8\n",
      "9\n",
      "10\n"
     ]
    }
   ],
   "source": [
    "12. #Write a for loop to print numbers from 1 to 10.\n",
    "\n",
    "for i in range(1,11):\n",
    "    print(i)"
   ]
  },
  {
   "cell_type": "code",
   "execution_count": 34,
   "id": "c7ec2aab-1b67-4884-8bee-475418007cd4",
   "metadata": {},
   "outputs": [
    {
     "name": "stdout",
     "output_type": "stream",
     "text": [
      "2\n",
      "6\n",
      "12\n",
      "20\n",
      "30\n",
      "42\n",
      "56\n",
      "72\n",
      "90\n",
      "110\n",
      "132\n",
      "156\n",
      "182\n",
      "210\n",
      "240\n",
      "272\n",
      "306\n",
      "342\n",
      "380\n",
      "420\n",
      "462\n",
      "506\n",
      "552\n",
      "600\n",
      "650\n"
     ]
    }
   ],
   "source": [
    "13. #Write a Python program to find the sum of all even numbers between 1 and 50.\n",
    "sum=0\n",
    "for number in range(1,51):\n",
    " if number%2==0:\n",
    "    sum+=number\n",
    "    print(sum)"
   ]
  },
  {
   "cell_type": "code",
   "execution_count": 35,
   "id": "ee78ca37-b861-4b2e-b864-c44f03fe4080",
   "metadata": {},
   "outputs": [
    {
     "data": {
      "text/plain": [
       "'Virat kohli'"
      ]
     },
     "execution_count": 35,
     "metadata": {},
     "output_type": "execute_result"
    }
   ],
   "source": [
    "14. #Write a program to reverse a string using a while loop.\n",
    "\n",
    "string1=\"Virat kohli\"\n",
    "string1"
   ]
  },
  {
   "cell_type": "code",
   "execution_count": 36,
   "id": "e125e99e-14bc-4c17-94ad-4eb9ed5557cf",
   "metadata": {},
   "outputs": [
    {
     "data": {
      "text/plain": [
       "'ilhok tariV'"
      ]
     },
     "execution_count": 36,
     "metadata": {},
     "output_type": "execute_result"
    }
   ],
   "source": [
    "string1[::-1]"
   ]
  },
  {
   "cell_type": "code",
   "execution_count": 6,
   "id": "db9ffa71-512d-4e55-b9e7-6c80abf6821c",
   "metadata": {},
   "outputs": [
    {
     "name": "stdout",
     "output_type": "stream",
     "text": [
      "the factorial of (number) is (factorial)\n"
     ]
    }
   ],
   "source": [
    "15. #Write a Python program to calculate the factorial of a number provided by the user using a while loop.\n",
    "\n",
    "number=1\n",
    "if number<0:\n",
    "    print(\"factorial is not defined for negative number.\")\n",
    "else:\n",
    "    factorial=1\n",
    "    i=1\n",
    "    while i<=number:\n",
    "        factorial*=1\n",
    "        i+=1\n",
    "        print(\"the factorial of (number) is (factorial)\")\n",
    "        "
   ]
  }
 ],
 "metadata": {
  "kernelspec": {
   "display_name": "Python 3 (ipykernel)",
   "language": "python",
   "name": "python3"
  },
  "language_info": {
   "codemirror_mode": {
    "name": "ipython",
    "version": 3
   },
   "file_extension": ".py",
   "mimetype": "text/x-python",
   "name": "python",
   "nbconvert_exporter": "python",
   "pygments_lexer": "ipython3",
   "version": "3.13.4"
  }
 },
 "nbformat": 4,
 "nbformat_minor": 5
}
